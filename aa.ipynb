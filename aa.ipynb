{
 "cells": [
  {
   "cell_type": "code",
   "execution_count": 25,
   "metadata": {},
   "outputs": [],
   "source": [
    "import numpy as np\n",
    "import pandas as pd\n",
    "import matplotlib.pyplot as plt\n",
    "import os\n",
    "\n",
    "data = pd.read_csv(os.path.join(\"ml\", \"pv_pred_error.csv\"), index_col=0)\n",
    "\n",
    "# data.iloc[:24]"
   ]
  },
  {
   "cell_type": "code",
   "execution_count": 26,
   "metadata": {},
   "outputs": [],
   "source": [
    "index = data.index\n",
    "\n",
    "time_dict = {}\n",
    "for idx in index.unique():\n",
    "    l = data.index == idx\n",
    "    time_dict[idx] = np.array(data.iloc[l]).reshape(1, -1).tolist()[0]\n",
    "    plt.hist(time_dict[idx])\n",
    "    plt.savefig(os.path.join(\"fig\", f\"hist_t{idx}.png\"))\n",
    "    plt.close()"
   ]
  },
  {
   "cell_type": "code",
   "execution_count": 23,
   "metadata": {},
   "outputs": [
    {
     "data": {
      "text/plain": [
       "0     0.000000\n",
       "1     0.000000\n",
       "2     0.000000\n",
       "3     0.000000\n",
       "4     0.000000\n",
       "5     0.000000\n",
       "6    -0.053627\n",
       "7    -0.034741\n",
       "8    -0.282507\n",
       "9    -0.556721\n",
       "10   -0.806191\n",
       "11   -0.136616\n",
       "12   -0.099486\n",
       "13    0.056261\n",
       "14   -0.085777\n",
       "15    0.135064\n",
       "16   -0.106559\n",
       "17    0.154014\n",
       "18   -0.201484\n",
       "19   -0.018529\n",
       "20   -0.002002\n",
       "21    0.000000\n",
       "22    0.000000\n",
       "23    0.000000\n",
       "dtype: float64"
      ]
     },
     "execution_count": 23,
     "metadata": {},
     "output_type": "execute_result"
    }
   ],
   "source": [
    "d = pd.DataFrame(time_dict)\n",
    "d.mean()"
   ]
  },
  {
   "cell_type": "code",
   "execution_count": 24,
   "metadata": {},
   "outputs": [
    {
     "data": {
      "text/plain": [
       "0      0.021472\n",
       "1      0.000467\n",
       "2      0.000000\n",
       "3      0.023866\n",
       "4      0.034406\n",
       "5      0.006505\n",
       "6      1.676079\n",
       "7      7.368208\n",
       "8     10.070737\n",
       "9     14.860960\n",
       "10    20.002472\n",
       "11    26.922970\n",
       "12    28.684787\n",
       "13    26.098578\n",
       "14    32.217836\n",
       "15    28.405168\n",
       "16    22.395083\n",
       "17    15.340265\n",
       "18    10.617883\n",
       "19     4.025445\n",
       "20     0.085485\n",
       "21     0.004546\n",
       "22     0.000000\n",
       "23     0.001922\n",
       "dtype: float64"
      ]
     },
     "execution_count": 24,
     "metadata": {},
     "output_type": "execute_result"
    }
   ],
   "source": [
    "d.std()"
   ]
  },
  {
   "cell_type": "code",
   "execution_count": 54,
   "metadata": {},
   "outputs": [],
   "source": [
    "cols = data.columns\n",
    "index = data.index\n",
    "\n",
    "for col in cols:\n",
    "    for idx in index.unique():\n",
    "        a = data[col]\n",
    "        l = a.index == idx\n",
    "        d = sorted(a.iloc[l], reverse=True)\n",
    "\n",
    "        plt.hist(np.array(d))\n",
    "        plt.savefig(os.path.join(\"fig\", f\"{col}_{idx}.png\"))\n",
    "        plt.close()\n",
    "        "
   ]
  },
  {
   "cell_type": "code",
   "execution_count": null,
   "metadata": {},
   "outputs": [],
   "source": []
  }
 ],
 "metadata": {
  "kernelspec": {
   "display_name": "Python 3",
   "language": "python",
   "name": "python3"
  },
  "language_info": {
   "codemirror_mode": {
    "name": "ipython",
    "version": 3
   },
   "file_extension": ".py",
   "mimetype": "text/x-python",
   "name": "python",
   "nbconvert_exporter": "python",
   "pygments_lexer": "ipython3",
   "version": "3.10.0"
  }
 },
 "nbformat": 4,
 "nbformat_minor": 2
}
